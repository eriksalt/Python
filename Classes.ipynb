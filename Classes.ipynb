{
 "cells": [
  {
   "cell_type": "markdown",
   "metadata": {},
   "source": [
    "# Python Classes Quick Reference\n",
    "\n",
    "## Table Of Contents\n",
    "\n",
    "1. <a href=\"#1.-Simple-Class\">Simple Class</a>\n",
    "2. <a href=\"#2.-Member-Variables\">Member Variables</a>\n",
    "3. <a href=\"#3.-Constructor\">Constructor</a>"
   ]
  },
  {
   "cell_type": "markdown",
   "metadata": {},
   "source": [
    "## 1. Simple Class"
   ]
  },
  {
   "cell_type": "code",
   "execution_count": 1,
   "metadata": {},
   "outputs": [
    {
     "name": "stdout",
     "output_type": "stream",
     "text": [
      "vroom vroom...\n"
     ]
    }
   ],
   "source": [
    "# simple definition.  All member functions must take parameter self (this in c++)\n",
    "\n",
    "class Car:\n",
    "    def drive(self):\n",
    "        print('vroom vroom...')\n",
    "        \n",
    "miata = Car()\n",
    "miata.drive()"
   ]
  },
  {
   "cell_type": "markdown",
   "metadata": {},
   "source": [
    "## 2. Member Variables"
   ]
  },
  {
   "cell_type": "code",
   "execution_count": 2,
   "metadata": {},
   "outputs": [
    {
     "name": "stdout",
     "output_type": "stream",
     "text": [
      "driving my miata vroom vroom...\n"
     ]
    }
   ],
   "source": [
    "# declare variable\n",
    "\n",
    "class Car:\n",
    "    make = 'unknown car type'\n",
    "    def drive(self):\n",
    "        print('driving my %s vroom vroom...' % self.make)\n",
    "\n",
    "miata = Car()\n",
    "miata.make = 'miata'\n",
    "miata.drive()"
   ]
  },
  {
   "cell_type": "markdown",
   "metadata": {},
   "source": [
    "## 3. Constructor"
   ]
  },
  {
   "cell_type": "code",
   "execution_count": 3,
   "metadata": {},
   "outputs": [
    {
     "name": "stdout",
     "output_type": "stream",
     "text": [
      "driving my miata vroom vroom...\n"
     ]
    },
    {
     "data": {
      "text/plain": [
       "'miata'"
      ]
     },
     "execution_count": 3,
     "metadata": {},
     "output_type": "execute_result"
    }
   ],
   "source": [
    "# constructor syntax\n",
    "\n",
    "class Car:\n",
    "    make = 'unknown car type'\n",
    "    def __init__(self,make):\n",
    "        self.make=make\n",
    "    def drive(self):\n",
    "        print('driving my %s vroom vroom...' % self.make)\n",
    "\n",
    "maiata=Car('miata')\n",
    "miata.drive()\n",
    "miata.make"
   ]
  }
 ],
 "metadata": {
  "kernelspec": {
   "display_name": "Python 3",
   "language": "python",
   "name": "python3"
  },
  "language_info": {
   "codemirror_mode": {
    "name": "ipython",
    "version": 3
   },
   "file_extension": ".py",
   "mimetype": "text/x-python",
   "name": "python",
   "nbconvert_exporter": "python",
   "pygments_lexer": "ipython3",
   "version": "3.6.3"
  }
 },
 "nbformat": 4,
 "nbformat_minor": 2
}
