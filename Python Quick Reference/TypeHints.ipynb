{
 "cells": [
  {
   "cell_type": "markdown",
   "metadata": {},
   "source": [
    "# Python Strings Quick Reference"
   ]
  },
  {
   "cell_type": "markdown",
   "metadata": {},
   "source": [
    "## 1. Simple Cases"
   ]
  },
  {
   "cell_type": "code",
   "execution_count": 1,
   "metadata": {},
   "outputs": [],
   "source": [
    "# Simple variable type hing\n",
    "age : int = 32\n",
    "\n",
    "# type hinting a function with parameter and return types\n",
    "def somefunc(age:int, name : str)->bool:\n",
    "    return True\n",
    "\n",
    "#Use None if the function does not return a value\n",
    "def not_return_type()->None:\n",
    "    return\n",
    "\n",
    "\n",
    "# The Any type will accept any type: no type checking is done.\n",
    "def take_anything(foo: any)->None:\n",
    "    return"
   ]
  },
  {
   "cell_type": "markdown",
   "metadata": {},
   "source": [
    "## 2. Collections"
   ]
  },
  {
   "cell_type": "code",
   "execution_count": 2,
   "metadata": {},
   "outputs": [],
   "source": [
    "ages : list[int] = [3,4,5]\n",
    "ConnectionOptions = dict[str, str]\n",
    "Address = tuple[str, int]\n",
    "Server = tuple[Address, ConnectionOptions]"
   ]
  },
  {
   "cell_type": "markdown",
   "metadata": {},
   "source": [
    "## 3. Using NewType to create distinct types that are based on another type"
   ]
  },
  {
   "cell_type": "code",
   "execution_count": 3,
   "metadata": {},
   "outputs": [],
   "source": [
    "from typing import NewType\n",
    "\n",
    "UserId = NewType('UserId', int)\n",
    "some_id = UserId(524313)\n",
    "\n",
    "def get_user_name(user_id: UserId) -> str:\n",
    "    return \"\"\n",
    "\n",
    "# typechecks\n",
    "user_a = get_user_name(UserId(42351))\n",
    "\n",
    "# The following line would fail type checking because -1 is an int, not a UserId\n",
    "#user_b = get_user_name(-1)"
   ]
  },
  {
   "cell_type": "markdown",
   "metadata": {},
   "source": [
    "## Typehinting callback functions"
   ]
  },
  {
   "cell_type": "code",
   "execution_count": 4,
   "metadata": {},
   "outputs": [],
   "source": [
    "from collections.abc import Callable\n",
    "\n",
    "#Callable[[Arg1Type, Arg2Type...], ReturnType]\n",
    "def async_query(on_success: Callable[[int], None],\n",
    "                on_error: Callable[[int, Exception], None]) -> None:\n",
    "    return"
   ]
  }
 ],
 "metadata": {
  "interpreter": {
   "hash": "79fb65cf82d2c97be4ceb12017f80bc11dcf36552d458885b2ca454548e9ae24"
  },
  "kernelspec": {
   "display_name": "Python 3.9.1 64-bit",
   "language": "python",
   "name": "python3"
  },
  "language_info": {
   "codemirror_mode": {
    "name": "ipython",
    "version": 3
   },
   "file_extension": ".py",
   "mimetype": "text/x-python",
   "name": "python",
   "nbconvert_exporter": "python",
   "pygments_lexer": "ipython3",
   "version": "3.9.1"
  },
  "orig_nbformat": 4
 },
 "nbformat": 4,
 "nbformat_minor": 2
}
