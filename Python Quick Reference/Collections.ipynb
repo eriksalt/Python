{
 "cells": [
  {
   "cell_type": "markdown",
   "metadata": {},
   "source": [
    "# Python Collections Quick Reference\n",
    "\n",
    "## Table Of Contents\n",
    "\n",
    "1. <a href=\"#1.-Deque\">Deque</a>\n",
    "2. <a href=\"#2.-Heapq\">Heapq</a>\n",
    "3. <a href=\"#3.-Counter\">Counter</a>"
   ]
  },
  {
   "cell_type": "markdown",
   "metadata": {},
   "source": [
    "## 1. Deque"
   ]
  },
  {
   "cell_type": "code",
   "execution_count": 1,
   "metadata": {},
   "outputs": [
    {
     "data": {
      "text/plain": [
       "deque([3, 1, 2])"
      ]
     },
     "execution_count": 1,
     "metadata": {},
     "output_type": "execute_result"
    }
   ],
   "source": [
    "from collections import deque\n",
    "\n",
    "dq = deque()\n",
    "dq.append(1)\n",
    "dq.append(2)\n",
    "dq.appendleft(3)\n",
    "dq"
   ]
  },
  {
   "cell_type": "code",
   "execution_count": 2,
   "metadata": {},
   "outputs": [
    {
     "data": {
      "text/plain": [
       "2"
      ]
     },
     "execution_count": 2,
     "metadata": {},
     "output_type": "execute_result"
    }
   ],
   "source": [
    "v = dq.pop()\n",
    "v"
   ]
  },
  {
   "cell_type": "code",
   "execution_count": 3,
   "metadata": {},
   "outputs": [
    {
     "data": {
      "text/plain": [
       "3"
      ]
     },
     "execution_count": 3,
     "metadata": {},
     "output_type": "execute_result"
    }
   ],
   "source": [
    "dq.popleft()"
   ]
  },
  {
   "cell_type": "code",
   "execution_count": 4,
   "metadata": {},
   "outputs": [
    {
     "data": {
      "text/plain": [
       "deque([1])"
      ]
     },
     "execution_count": 4,
     "metadata": {},
     "output_type": "execute_result"
    }
   ],
   "source": [
    "dq"
   ]
  },
  {
   "cell_type": "markdown",
   "metadata": {},
   "source": [
    "**Using maxlen to limit the num of items in a deque**"
   ]
  },
  {
   "cell_type": "code",
   "execution_count": 5,
   "metadata": {},
   "outputs": [
    {
     "data": {
      "text/plain": [
       "deque([7, 8, 9])"
      ]
     },
     "execution_count": 5,
     "metadata": {},
     "output_type": "execute_result"
    }
   ],
   "source": [
    "dq = deque(maxlen = 3)\n",
    "for n in range(10):\n",
    "    dq.append(n)\n",
    "dq"
   ]
  },
  {
   "cell_type": "markdown",
   "metadata": {},
   "source": [
    "## 2. Heapq"
   ]
  },
  {
   "cell_type": "markdown",
   "metadata": {},
   "source": [
    "**heapq provides O(1) access to the smallest item in the heap.**"
   ]
  },
  {
   "cell_type": "code",
   "execution_count": 11,
   "metadata": {
    "collapsed": true
   },
   "outputs": [],
   "source": [
    "import heapq\n",
    "nums = [1, 8, 2, 23, 7, -4, 18, 23, 42, 37, 2]"
   ]
  },
  {
   "cell_type": "code",
   "execution_count": 12,
   "metadata": {},
   "outputs": [
    {
     "data": {
      "text/plain": [
       "[-4, 2, 1, 23, 7, 2, 18, 23, 42, 37, 8]"
      ]
     },
     "execution_count": 12,
     "metadata": {},
     "output_type": "execute_result"
    }
   ],
   "source": [
    "#heapq is created from a list\n",
    "\n",
    "heap = list(nums)\n",
    "heapq.heapify(heap)\n",
    "\n",
    "#now the 1st element is guarenteed to be the smallest\n",
    "heap"
   ]
  },
  {
   "cell_type": "code",
   "execution_count": 13,
   "metadata": {},
   "outputs": [
    {
     "data": {
      "text/plain": [
       "-4"
      ]
     },
     "execution_count": 13,
     "metadata": {},
     "output_type": "execute_result"
    }
   ],
   "source": [
    "heapq.heappop(heap)"
   ]
  },
  {
   "cell_type": "code",
   "execution_count": 14,
   "metadata": {},
   "outputs": [
    {
     "data": {
      "text/plain": [
       "[1, 2, 2, 23, 7, 8, 18, 23, 42, 37]"
      ]
     },
     "execution_count": 14,
     "metadata": {},
     "output_type": "execute_result"
    }
   ],
   "source": [
    "heap"
   ]
  },
  {
   "cell_type": "code",
   "execution_count": 15,
   "metadata": {},
   "outputs": [
    {
     "data": {
      "text/plain": [
       "[-10, 1, 2, 23, 2, 8, 18, 23, 42, 37, 7]"
      ]
     },
     "execution_count": 15,
     "metadata": {},
     "output_type": "execute_result"
    }
   ],
   "source": [
    "heapq.heappush(heap, -10)\n",
    "\n",
    "heap"
   ]
  },
  {
   "cell_type": "markdown",
   "metadata": {},
   "source": [
    "**nlargest / nsmallest wraps creation of a heap for one-time access**"
   ]
  },
  {
   "cell_type": "code",
   "execution_count": 16,
   "metadata": {},
   "outputs": [
    {
     "name": "stdout",
     "output_type": "stream",
     "text": [
      "[42, 37, 23]\n",
      "[-4, 1, 2]\n"
     ]
    }
   ],
   "source": [
    "# nlargest and nsmallest wrap a heapq to provide its results\n",
    "print(heapq.nlargest(3, nums)) # Prints [42, 37, 23]\n",
    "print(heapq.nsmallest(3, nums)) # Prints [-4, 1, 2]"
   ]
  },
  {
   "cell_type": "code",
   "execution_count": 17,
   "metadata": {},
   "outputs": [
    {
     "data": {
      "text/plain": [
       "[{'name': 'YHOO', 'price': 16.35, 'shares': 45},\n",
       " {'name': 'FB', 'price': 21.09, 'shares': 200},\n",
       " {'name': 'HPQ', 'price': 31.75, 'shares': 35}]"
      ]
     },
     "execution_count": 17,
     "metadata": {},
     "output_type": "execute_result"
    }
   ],
   "source": [
    "# providing an alternate sort key to nlargest/nsmallest\n",
    "portfolio = [\n",
    "{'name': 'IBM', 'shares': 100, 'price': 91.1},\n",
    "{'name': 'AAPL', 'shares': 50, 'price': 543.22},\n",
    "{'name': 'FB', 'shares': 200, 'price': 21.09},\n",
    "{'name': 'HPQ', 'shares': 35, 'price': 31.75},\n",
    "{'name': 'YHOO', 'shares': 45, 'price': 16.35},\n",
    "{'name': 'ACME', 'shares': 75, 'price': 115.65}\n",
    "]\n",
    "\n",
    "heapq.nsmallest(3, portfolio, key=lambda s: s['price'])"
   ]
  },
  {
   "cell_type": "markdown",
   "metadata": {
    "collapsed": true
   },
   "source": [
    "## 3. Counter"
   ]
  },
  {
   "cell_type": "code",
   "execution_count": 1,
   "metadata": {},
   "outputs": [
    {
     "data": {
      "text/plain": [
       "[('eyes', 8), ('the', 5), ('look', 4)]"
      ]
     },
     "execution_count": 1,
     "metadata": {},
     "output_type": "execute_result"
    }
   ],
   "source": [
    "words = [\n",
    "'look', 'into', 'my', 'eyes', 'look', 'into', 'my', 'eyes',\n",
    "'the', 'eyes', 'the', 'eyes', 'the', 'eyes', 'not', 'around', 'the',\n",
    "'eyes', \"don't\", 'look', 'around', 'the', 'eyes', 'look', 'into',\n",
    "'my', 'eyes', \"you're\", 'under'\n",
    "]\n",
    "\n",
    "from collections import Counter\n",
    "word_counts = Counter(words)  #Works with any hashable items, not just strings!\n",
    "word_counts.most_common(3)"
   ]
  },
  {
   "cell_type": "code",
   "execution_count": 4,
   "metadata": {},
   "outputs": [
    {
     "data": {
      "text/plain": [
       "[('eyes', 11), ('my', 6), ('the', 5)]"
      ]
     },
     "execution_count": 4,
     "metadata": {},
     "output_type": "execute_result"
    }
   ],
   "source": [
    "morewords = ['why','are','you','not','looking','in','my','eyes']\n",
    "for word in morewords:\n",
    "    word_counts[word] += 1\n",
    "word_counts.most_common(3)"
   ]
  },
  {
   "cell_type": "code",
   "execution_count": 5,
   "metadata": {},
   "outputs": [
    {
     "data": {
      "text/plain": [
       "[('eyes', 11), ('look', 6), ('my', 6)]"
      ]
     },
     "execution_count": 5,
     "metadata": {},
     "output_type": "execute_result"
    }
   ],
   "source": [
    "evenmorewords = ['seriously','look','into','them','while','i','look','at', 'you']\n",
    "word_counts.update(evenmorewords)\n",
    "word_counts.most_common(3)"
   ]
  },
  {
   "cell_type": "code",
   "execution_count": 6,
   "metadata": {
    "collapsed": true
   },
   "outputs": [],
   "source": [
    "a = Counter(words)\n",
    "b = Counter(morewords)\n",
    "c = Counter(evenmorewords)"
   ]
  },
  {
   "cell_type": "code",
   "execution_count": 7,
   "metadata": {},
   "outputs": [
    {
     "data": {
      "text/plain": [
       "Counter({'are': 1,\n",
       "         'at': 1,\n",
       "         'eyes': 1,\n",
       "         'i': 1,\n",
       "         'in': 1,\n",
       "         'into': 1,\n",
       "         'look': 2,\n",
       "         'looking': 1,\n",
       "         'my': 1,\n",
       "         'not': 1,\n",
       "         'seriously': 1,\n",
       "         'them': 1,\n",
       "         'while': 1,\n",
       "         'why': 1,\n",
       "         'you': 2})"
      ]
     },
     "execution_count": 7,
     "metadata": {},
     "output_type": "execute_result"
    }
   ],
   "source": [
    "# combine counters\n",
    "d = b + c\n",
    "d"
   ]
  },
  {
   "cell_type": "code",
   "execution_count": 8,
   "metadata": {},
   "outputs": [
    {
     "data": {
      "text/plain": [
       "Counter({'around': 2,\n",
       "         \"don't\": 1,\n",
       "         'eyes': 7,\n",
       "         'into': 2,\n",
       "         'look': 2,\n",
       "         'my': 2,\n",
       "         'the': 5,\n",
       "         'under': 1,\n",
       "         \"you're\": 1})"
      ]
     },
     "execution_count": 8,
     "metadata": {},
     "output_type": "execute_result"
    }
   ],
   "source": [
    "# subtract counts\n",
    "e = a-d\n",
    "e"
   ]
  },
  {
   "cell_type": "code",
   "execution_count": null,
   "metadata": {
    "collapsed": true
   },
   "outputs": [],
   "source": []
  }
 ],
 "metadata": {
  "kernelspec": {
   "display_name": "Python 2",
   "language": "python",
   "name": "python2"
  },
  "language_info": {
   "codemirror_mode": {
    "name": "ipython",
    "version": 2
   },
   "file_extension": ".py",
   "mimetype": "text/x-python",
   "name": "python",
   "nbconvert_exporter": "python",
   "pygments_lexer": "ipython2",
   "version": "2.7.13"
  }
 },
 "nbformat": 4,
 "nbformat_minor": 2
}
