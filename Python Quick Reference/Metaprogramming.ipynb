{
 "cells": [
  {
   "cell_type": "markdown",
   "metadata": {},
   "source": [
    "# Python Metaprogramming Quick Reference\n",
    "\n",
    "## Table Of Contents\n",
    "\n",
    "1. <a href=\"#1.-Decorator-Implementation\">Decorator Implementation</a>\n",
    "2. <a href=\"#2.-Advanced-Decorators\">Advanced Decorators</a>\n",
    "2. <a href=\"#3.-Metaclasses\">Metaclasses</a>"
   ]
  },
  {
   "cell_type": "markdown",
   "metadata": {},
   "source": [
    "## 1. Decorator Implementation"
   ]
  },
  {
   "cell_type": "markdown",
   "metadata": {},
   "source": [
    "**At their heart, decorators are functions that take a function as input and return a wrapping function as output**"
   ]
  },
  {
   "cell_type": "code",
   "execution_count": 3,
   "metadata": {},
   "outputs": [
    {
     "name": "stdout",
     "output_type": "stream",
     "text": [
      "Enter: hello_world\n",
      "hello world\n",
      "Exit: hello_world\n"
     ]
    }
   ],
   "source": [
    "def hello_world():\n",
    "    print('hello world')\n",
    "    \n",
    "# wrap hello world in a function that does logging\n",
    "def wrap_hello():\n",
    "    print('Enter: hello_world')\n",
    "    hello_world()\n",
    "    print('Exit: hello_world')\n",
    "    \n",
    "wrap_hello()"
   ]
  },
  {
   "cell_type": "code",
   "execution_count": 4,
   "metadata": {},
   "outputs": [
    {
     "name": "stdout",
     "output_type": "stream",
     "text": [
      "Enter: hello_world\n",
      "hello world\n",
      "Exit: hello_world\n"
     ]
    }
   ],
   "source": [
    "# to wrap any function at all, write a generic wrapper that takes the a function as input\n",
    "def logthis(func):\n",
    "    print('Enter: {}'.format(func.__name__))\n",
    "    func()\n",
    "    print('Exit: {}'.format(func.__name__))\n",
    "    \n",
    "logthis(hello_world)"
   ]
  },
  {
   "cell_type": "code",
   "execution_count": 5,
   "metadata": {},
   "outputs": [
    {
     "name": "stdout",
     "output_type": "stream",
     "text": [
      "Enter: hello_world\n",
      "hello world\n",
      "Exit: hello_world\n"
     ]
    }
   ],
   "source": [
    "# add the ability to handle arbitrary parameters and return types\n",
    "def logthis(func):\n",
    "    def wrapper(*args, **kwargs):\n",
    "        print('Enter: {}'.format(func.__name__))\n",
    "        result = func(*args, **kwargs)\n",
    "        print('Exit: {}'.format(func.__name__))\n",
    "        return result\n",
    "    return wrapper  # return the inner function\n",
    "\n",
    "logged_hello = logthis(hello_world)\n",
    "logged_hello()"
   ]
  },
  {
   "cell_type": "code",
   "execution_count": 6,
   "metadata": {},
   "outputs": [
    {
     "name": "stdout",
     "output_type": "stream",
     "text": [
      "Enter: hello_world\n",
      "hello world\n",
      "Exit: hello_world\n"
     ]
    }
   ],
   "source": [
    "# now you can replace hello_world with the wrapped function\n",
    "hello_world=logged_hello\n",
    "hello_world()"
   ]
  },
  {
   "cell_type": "code",
   "execution_count": 7,
   "metadata": {},
   "outputs": [
    {
     "data": {
      "text/plain": [
       "'wrapper'"
      ]
     },
     "execution_count": 7,
     "metadata": {},
     "output_type": "execute_result"
    }
   ],
   "source": [
    "# the only problem is that function metadata is wrong\n",
    "hello_world.__name__"
   ]
  },
  {
   "cell_type": "code",
   "execution_count": 8,
   "metadata": {},
   "outputs": [
    {
     "name": "stdout",
     "output_type": "stream",
     "text": [
      "Enter: hello_world\n",
      "hello world\n",
      "Exit: hello_world\n"
     ]
    }
   ],
   "source": [
    "#instead use functools.wraps and a decorator on your function, which otherwise is equivalent\n",
    "from functools import wraps\n",
    "\n",
    "def logthis(func):\n",
    "    @wraps(func)\n",
    "    def wrapper(*args, **kwargs):\n",
    "        print('Enter: {}'.format(func.__name__))\n",
    "        result = func(*args, **kwargs)\n",
    "        print('Exit: {}'.format(func.__name__))\n",
    "        return result\n",
    "    return wrapper  # return the inner function\n",
    "\n",
    "hello_world=None\n",
    "\n",
    "@logthis\n",
    "def hello_world():\n",
    "    print('hello world')\n",
    "    \n",
    "hello_world()"
   ]
  },
  {
   "cell_type": "code",
   "execution_count": 9,
   "metadata": {},
   "outputs": [
    {
     "name": "stdout",
     "output_type": "stream",
     "text": [
      "hello world\n"
     ]
    }
   ],
   "source": [
    "#if you use wraps, you can also access the raw undecorated function using __wrapped__\n",
    "\n",
    "raw_hello = hello_world.__wrapped__\n",
    "raw_hello()"
   ]
  },
  {
   "cell_type": "markdown",
   "metadata": {
    "collapsed": true
   },
   "source": [
    "## 2. Advanced Decorators"
   ]
  },
  {
   "cell_type": "code",
   "execution_count": 11,
   "metadata": {},
   "outputs": [
    {
     "name": "stdout",
     "output_type": "stream",
     "text": [
      "logger:Enter:hello_world\n",
      "hello world\n",
      "logger:Exit:hello_world\n"
     ]
    }
   ],
   "source": [
    "# Decorator that takes arguments\n",
    "def logged(prefix):\n",
    "    prefix = prefix if prefix else ''\n",
    "    logprefix = prefix + ':' if len(prefix) > 0 else prefix\n",
    "    def decorate(func):\n",
    "        @wraps(func)\n",
    "        def wrapper(*args, **kwargs):\n",
    "            print('{}Enter:{}'.format(logprefix, func.__name__))\n",
    "            result = func(*args, **kwargs)\n",
    "            print('{}Exit:{}'.format(logprefix, func.__name__))\n",
    "            return result\n",
    "        return wrapper\n",
    "    return decorate\n",
    "\n",
    "@logged('logger')\n",
    "def hello_world():\n",
    "    print('hello world')\n",
    "\n",
    "hello_world()"
   ]
  },
  {
   "cell_type": "code",
   "execution_count": 13,
   "metadata": {},
   "outputs": [
    {
     "name": "stdout",
     "output_type": "stream",
     "text": [
      "Enter: instance_method\n",
      "<__main__.Spam object at 0x0000020047229CF8> 4\n",
      "Exit: instance_method\n"
     ]
    }
   ],
   "source": [
    "# always declare classmethod and staticmethod decorators first (so they are applied last)\n",
    "\n",
    "class Spam:\n",
    "    @logthis\n",
    "    def instance_method(self, n):\n",
    "        print(self, n)\n",
    "        while n > 0:\n",
    "            n -= 1\n",
    "\n",
    "    @classmethod\n",
    "    @logthis\n",
    "    def class_method(cls, n):\n",
    "        print(cls, n)\n",
    "        while n > 0:\n",
    "            n -= 1\n",
    "\n",
    "    @staticmethod\n",
    "    @logthis\n",
    "    def static_method(n):\n",
    "        print(n)\n",
    "        while n > 0:\n",
    "            n-=1\n",
    "\n",
    "s = Spam()\n",
    "s.instance_method(4)"
   ]
  },
  {
   "cell_type": "code",
   "execution_count": 14,
   "metadata": {},
   "outputs": [
    {
     "name": "stdout",
     "output_type": "stream",
     "text": [
      "Enter: class_method\n",
      "<class '__main__.Spam'> 10\n",
      "Exit: class_method\n"
     ]
    }
   ],
   "source": [
    "Spam.class_method(10)"
   ]
  },
  {
   "cell_type": "markdown",
   "metadata": {},
   "source": [
    "## 3. Metaclasses"
   ]
  },
  {
   "cell_type": "code",
   "execution_count": 16,
   "metadata": {},
   "outputs": [
    {
     "name": "stdout",
     "output_type": "stream",
     "text": [
      "Creating Spam\n"
     ]
    },
    {
     "data": {
      "text/plain": [
       "True"
      ]
     },
     "execution_count": 16,
     "metadata": {},
     "output_type": "execute_result"
    }
   ],
   "source": [
    "# Singleton metaclass\n",
    "\n",
    "class Singleton(type):\n",
    "    def __init__(self, *args, **kwargs):\n",
    "        self.__instance = None\n",
    "        super().__init__(*args, **kwargs)\n",
    "    def __call__(self, *args, **kwargs):\n",
    "        if self.__instance is None:\n",
    "            self.__instance = super().__call__(*args, **kwargs)\n",
    "            return self.__instance\n",
    "        else:\n",
    "            return self.__instance\n",
    "\n",
    "# Example\n",
    "class Spam(metaclass=Singleton):\n",
    "    def __init__(self):\n",
    "        print('Creating Spam')\n",
    "\n",
    "a = Spam()   #generates 'Creating Spam'\n",
    "b=Spam()     #no print message produced\n",
    "b is a"
   ]
  },
  {
   "cell_type": "code",
   "execution_count": 17,
   "metadata": {},
   "outputs": [
    {
     "name": "stdout",
     "output_type": "stream",
     "text": [
      "Creating Spam('a')\n",
      "Creating Spam('b')\n"
     ]
    },
    {
     "data": {
      "text/plain": [
       "False"
      ]
     },
     "execution_count": 17,
     "metadata": {},
     "output_type": "execute_result"
    }
   ],
   "source": [
    "# Metaclass to cache objects by string provided in ctor\n",
    "\n",
    "import weakref\n",
    "\n",
    "class Cached(type):\n",
    "    def __init__(self, *args, **kwargs):\n",
    "        super().__init__(*args, **kwargs)\n",
    "        self.__cache = weakref.WeakValueDictionary()\n",
    "    def __call__(self, *args):\n",
    "        if args in self.__cache:\n",
    "            return self.__cache[args]\n",
    "        else:\n",
    "            obj = super().__call__(*args)\n",
    "            self.__cache[args] = obj\n",
    "            return obj\n",
    "\n",
    "# Example\n",
    "class Spam(metaclass=Cached):\n",
    "    def __init__(self, name):\n",
    "        print('Creating Spam({!r})'.format(name))\n",
    "        self.name = name\n",
    "        \n",
    "a =Spam('a')\n",
    "b=Spam('b')\n",
    "b2 = Spam('b')\n",
    "a is b"
   ]
  },
  {
   "cell_type": "code",
   "execution_count": 18,
   "metadata": {},
   "outputs": [
    {
     "data": {
      "text/plain": [
       "True"
      ]
     },
     "execution_count": 18,
     "metadata": {},
     "output_type": "execute_result"
    }
   ],
   "source": [
    "b is b2"
   ]
  }
 ],
 "metadata": {
  "kernelspec": {
   "display_name": "Python 3",
   "language": "python",
   "name": "python3"
  },
  "language_info": {
   "codemirror_mode": {
    "name": "ipython",
    "version": 3
   },
   "file_extension": ".py",
   "mimetype": "text/x-python",
   "name": "python",
   "nbconvert_exporter": "python",
   "pygments_lexer": "ipython3",
   "version": "3.6.1"
  }
 },
 "nbformat": 4,
 "nbformat_minor": 2
}
