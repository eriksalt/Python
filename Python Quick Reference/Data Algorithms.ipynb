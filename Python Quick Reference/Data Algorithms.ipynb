{
 "cells": [
  {
   "cell_type": "markdown",
   "metadata": {},
   "source": [
    "# Python Data Algorithms Quick Reference\n",
    "\n",
    "## Table Of Contents\n",
    "\n",
    "1. <a href=\"#1.-Map\">Map</a>\n",
    "2. <a href=\"#2.-Filter\">Filter</a>\n",
    "3. <a href=\"#3.-Named-Slices\">Named Slices</a>\n",
    "4. <a href=\"#4.-Zip\">Zip</a>\n",
    "5. <a href=\"#5.-itemgetter\">itemgetter</a>\n",
    "6. <a href=\"#6.-attrgetter\">attrgetter</a>\n",
    "7. <a href=\"#7.-groupby\">groupby</a>\n",
    "8. <a href=\"#8.-Generator-Expressions\">Generator Expressions</a>\n",
    "9. <a href=\"#9.-compress\">compress</a>"
   ]
  },
  {
   "cell_type": "markdown",
   "metadata": {},
   "source": [
    "## 1. Map"
   ]
  },
  {
   "cell_type": "markdown",
   "metadata": {},
   "source": [
    "**map** applies a function to every element of a sequence and returns an iterator of elements"
   ]
  },
  {
   "cell_type": "code",
   "execution_count": 1,
   "metadata": {},
   "outputs": [
    {
     "data": {
      "text/plain": [
       "[5, 5, 4]"
      ]
     },
     "execution_count": 1,
     "metadata": {},
     "output_type": "execute_result"
    }
   ],
   "source": [
    "simpsons = ['homer', 'marge', 'bart']\n",
    "map(len, simpsons) # returns [0, 2, 4]\n",
    "\n",
    "#equivalent list comprehension\n",
    "[len(word) for word in simpsons]"
   ]
  },
  {
   "cell_type": "code",
   "execution_count": 2,
   "metadata": {},
   "outputs": [
    {
     "data": {
      "text/plain": [
       "['r', 'e', 't']"
      ]
     },
     "execution_count": 2,
     "metadata": {},
     "output_type": "execute_result"
    }
   ],
   "source": [
    "map(lambda word: word[-1], simpsons) # returns ['r','e', 't']\n",
    "\n",
    "#equivalent list comprehension\n",
    "[word[-1] for word in simpsons]"
   ]
  },
  {
   "cell_type": "markdown",
   "metadata": {},
   "source": [
    "## 2. Filter"
   ]
  },
  {
   "cell_type": "markdown",
   "metadata": {},
   "source": [
    "**filter** returns an iterator containing the elements from a sequence for which a condition is True:"
   ]
  },
  {
   "cell_type": "code",
   "execution_count": 3,
   "metadata": {},
   "outputs": [
    {
     "data": {
      "text/plain": [
       "[0, 2, 4]"
      ]
     },
     "execution_count": 3,
     "metadata": {},
     "output_type": "execute_result"
    }
   ],
   "source": [
    "nums = range(5)\n",
    "filter(lambda x: x % 2 == 0, nums) # returns [0, 2, 4]\n",
    "\n",
    "# equivalent list comprehension\n",
    "[num for num in nums if num % 2 == 0]"
   ]
  },
  {
   "cell_type": "markdown",
   "metadata": {},
   "source": [
    "## 3. Named Slices"
   ]
  },
  {
   "cell_type": "code",
   "execution_count": 4,
   "metadata": {},
   "outputs": [
    {
     "data": {
      "text/plain": [
       "51325.0"
      ]
     },
     "execution_count": 4,
     "metadata": {},
     "output_type": "execute_result"
    }
   ],
   "source": [
    "######    0123456789012345678901234567890123456789012345678901234567890'\n",
    "record = '....................100          .......513.25   ..........'\n",
    "\n",
    "SHARES = slice(20,32)\n",
    "PRICE = slice(40,48)\n",
    "\n",
    "cost = int(record[SHARES]) * float(record[PRICE])\n",
    "cost"
   ]
  },
  {
   "cell_type": "markdown",
   "metadata": {},
   "source": [
    "## 4. Zip"
   ]
  },
  {
   "cell_type": "code",
   "execution_count": 5,
   "metadata": {},
   "outputs": [
    {
     "data": {
      "text/plain": [
       "(612.78, 'AAPL')"
      ]
     },
     "execution_count": 5,
     "metadata": {},
     "output_type": "execute_result"
    }
   ],
   "source": [
    "# zip() allows you to create an iterable view over a tuple created out of two separate iterable views\n",
    "prices = { 'ACME' : 45.23, 'AAPL': 612.78, 'IBM': 205.55, 'HPQ' : 37.20, 'FB' : 10.75 }\n",
    "\n",
    "min_price = min(zip(prices.values(), prices.keys()))  #(10.75, 'FB')\n",
    "\n",
    "max((zip(prices.values(), prices.keys())))"
   ]
  },
  {
   "cell_type": "markdown",
   "metadata": {},
   "source": [
    "**zip can only be iterated over once!**"
   ]
  },
  {
   "cell_type": "code",
   "execution_count": 6,
   "metadata": {},
   "outputs": [
    {
     "name": "stdout",
     "output_type": "stream",
     "text": [
      "(10.75, 'FB')\n"
     ]
    }
   ],
   "source": [
    "prices_and_names = zip(prices.values(), prices.keys())\n",
    "print(min(prices_and_names))\n",
    "\n",
    "# running the following code would fail\n",
    "#print(min(prices_and_names))"
   ]
  },
  {
   "cell_type": "code",
   "execution_count": 7,
   "metadata": {},
   "outputs": [
    {
     "data": {
      "text/plain": [
       "5"
      ]
     },
     "execution_count": 7,
     "metadata": {},
     "output_type": "execute_result"
    }
   ],
   "source": [
    "# the indices method returns a tuple which makes the slice safe for a collection of a given length\n",
    "# i.e. it protects against out-of-bounds errors.\n",
    "\n",
    "a = slice ( 5,50, 2)\n",
    "a.start"
   ]
  },
  {
   "cell_type": "code",
   "execution_count": 8,
   "metadata": {},
   "outputs": [
    {
     "data": {
      "text/plain": [
       "(5, 10, 2)"
      ]
     },
     "execution_count": 8,
     "metadata": {},
     "output_type": "execute_result"
    }
   ],
   "source": [
    "s = 'HelloWorld'\n",
    "a.indices(len(s))"
   ]
  },
  {
   "cell_type": "code",
   "execution_count": 9,
   "metadata": {},
   "outputs": [
    {
     "name": "stdout",
     "output_type": "stream",
     "text": [
      "W\n",
      "r\n",
      "d\n"
     ]
    }
   ],
   "source": [
    "for i in range( *a.indices(len(s))):\n",
    "    print(s[i])"
   ]
  },
  {
   "cell_type": "markdown",
   "metadata": {
    "collapsed": true
   },
   "source": [
    "## 5. itemgetter"
   ]
  },
  {
   "cell_type": "code",
   "execution_count": 10,
   "metadata": {
    "collapsed": true
   },
   "outputs": [],
   "source": [
    "from operator import itemgetter"
   ]
  },
  {
   "cell_type": "code",
   "execution_count": 11,
   "metadata": {},
   "outputs": [
    {
     "data": {
      "text/plain": [
       "[{'fname': 'Big', 'lname': 'Jones', 'uid': 1004},\n",
       " {'fname': 'Brian', 'lname': 'Jones', 'uid': 1003},\n",
       " {'fname': 'David', 'lname': 'Beazley', 'uid': 1002},\n",
       " {'fname': 'John', 'lname': 'Cleese', 'uid': 1001}]"
      ]
     },
     "execution_count": 11,
     "metadata": {},
     "output_type": "execute_result"
    }
   ],
   "source": [
    "rows = [\n",
    "{'fname': 'Brian', 'lname': 'Jones', 'uid': 1003},\n",
    "{'fname': 'David', 'lname': 'Beazley', 'uid': 1002},\n",
    "{'fname': 'John', 'lname': 'Cleese', 'uid': 1001},\n",
    "{'fname': 'Big', 'lname': 'Jones', 'uid': 1004}\n",
    "]\n",
    "\n",
    "rows_by_fname = sorted(rows, key=itemgetter('fname'))\n",
    "rows_by_fname"
   ]
  },
  {
   "cell_type": "code",
   "execution_count": 12,
   "metadata": {},
   "outputs": [
    {
     "data": {
      "text/plain": [
       "[{'fname': 'John', 'lname': 'Cleese', 'uid': 1001},\n",
       " {'fname': 'David', 'lname': 'Beazley', 'uid': 1002},\n",
       " {'fname': 'Brian', 'lname': 'Jones', 'uid': 1003},\n",
       " {'fname': 'Big', 'lname': 'Jones', 'uid': 1004}]"
      ]
     },
     "execution_count": 12,
     "metadata": {},
     "output_type": "execute_result"
    }
   ],
   "source": [
    "rows_by_uid = sorted(rows, key=itemgetter('uid'))\n",
    "rows_by_uid"
   ]
  },
  {
   "cell_type": "code",
   "execution_count": 13,
   "metadata": {},
   "outputs": [
    {
     "data": {
      "text/plain": [
       "[{'fname': 'David', 'lname': 'Beazley', 'uid': 1002},\n",
       " {'fname': 'John', 'lname': 'Cleese', 'uid': 1001},\n",
       " {'fname': 'Big', 'lname': 'Jones', 'uid': 1004},\n",
       " {'fname': 'Brian', 'lname': 'Jones', 'uid': 1003}]"
      ]
     },
     "execution_count": 13,
     "metadata": {},
     "output_type": "execute_result"
    }
   ],
   "source": [
    "# itemgetter() function can also accept multiple keys\n",
    "rows_by_lfname = sorted(rows, key=itemgetter('lname','fname'))\n",
    "rows_by_lfname"
   ]
  },
  {
   "cell_type": "markdown",
   "metadata": {},
   "source": [
    "## 6. attrgetter"
   ]
  },
  {
   "cell_type": "code",
   "execution_count": 14,
   "metadata": {
    "collapsed": true
   },
   "outputs": [],
   "source": [
    "from operator import attrgetter"
   ]
  },
  {
   "cell_type": "code",
   "execution_count": 15,
   "metadata": {},
   "outputs": [
    {
     "data": {
      "text/plain": [
       "[User(23), User(3), User(99)]"
      ]
     },
     "execution_count": 15,
     "metadata": {},
     "output_type": "execute_result"
    }
   ],
   "source": [
    "#used to sort objects that dont natively support comparison\n",
    "class User:\n",
    "    def __init__(self, user_id):\n",
    "        self.user_id = user_id\n",
    "    def __repr__(self):\n",
    "        return 'User({})'.format(self.user_id)\n",
    "        \n",
    "users = [User(23), User(3), User(99)]\n",
    "users"
   ]
  },
  {
   "cell_type": "code",
   "execution_count": 16,
   "metadata": {},
   "outputs": [
    {
     "data": {
      "text/plain": [
       "[User(3), User(23), User(99)]"
      ]
     },
     "execution_count": 16,
     "metadata": {},
     "output_type": "execute_result"
    }
   ],
   "source": [
    "sorted(users, key=attrgetter('user_id'))"
   ]
  },
  {
   "cell_type": "code",
   "execution_count": 17,
   "metadata": {},
   "outputs": [
    {
     "data": {
      "text/plain": [
       "User(3)"
      ]
     },
     "execution_count": 17,
     "metadata": {},
     "output_type": "execute_result"
    }
   ],
   "source": [
    "min(users, key=attrgetter('user_id'))"
   ]
  },
  {
   "cell_type": "markdown",
   "metadata": {
    "collapsed": true
   },
   "source": [
    "## 7. groupby"
   ]
  },
  {
   "cell_type": "markdown",
   "metadata": {},
   "source": [
    "The groupby() function works by scanning a sequence and finding sequential “runs”\n",
    "of identical values (or values returned by the given key function). On each iteration, it\n",
    "returns the value along with an iterator that produces all of the items in a group with\n",
    "the same value."
   ]
  },
  {
   "cell_type": "code",
   "execution_count": 19,
   "metadata": {
    "collapsed": true
   },
   "outputs": [],
   "source": [
    "from operator import itemgetter\n",
    "from itertools import groupby"
   ]
  },
  {
   "cell_type": "code",
   "execution_count": 27,
   "metadata": {},
   "outputs": [
    {
     "name": "stdout",
     "output_type": "stream",
     "text": [
      "07/01/2012\n",
      "   {'date': '07/01/2012', 'address': '5412 N CLARK'}\n",
      "   {'date': '07/01/2012', 'address': '4801 N BROADWAY'}\n",
      "07/02/2012\n",
      "   {'date': '07/02/2012', 'address': '5800 E 58TH'}\n",
      "   {'date': '07/02/2012', 'address': '5645 N RAVENSWOOD'}\n",
      "   {'date': '07/02/2012', 'address': '1060 W ADDISON'}\n",
      "07/03/2012\n",
      "   {'date': '07/03/2012', 'address': '2122 N CLARK'}\n",
      "07/04/2012\n",
      "   {'date': '07/04/2012', 'address': '5148 N CLARK'}\n",
      "   {'date': '07/04/2012', 'address': '1039 W GRANVILLE'}\n"
     ]
    }
   ],
   "source": [
    "rows = [\n",
    "{'address': '5412 N CLARK', 'date': '07/01/2012'},\n",
    "{'address': '5148 N CLARK', 'date': '07/04/2012'},\n",
    "{'address': '5800 E 58TH', 'date': '07/02/2012'},\n",
    "{'address': '2122 N CLARK', 'date': '07/03/2012'},\n",
    "{'address': '5645 N RAVENSWOOD', 'date': '07/02/2012'},\n",
    "{'address': '1060 W ADDISON', 'date': '07/02/2012'},\n",
    "{'address': '4801 N BROADWAY', 'date': '07/01/2012'},\n",
    "{'address': '1039 W GRANVILLE', 'date': '07/04/2012'},\n",
    "]\n",
    "\n",
    "# important!  must sort data on key field first!\n",
    "rows.sort(key=itemgetter('date'))\n",
    "\n",
    "#iterate in groups\n",
    "for date, items in groupby(rows, key=itemgetter('date')):\n",
    "    print(date)\n",
    "    for i in items:\n",
    "        print('   %s' % i)"
   ]
  },
  {
   "cell_type": "markdown",
   "metadata": {},
   "source": [
    "## 8. Generator Expressions"
   ]
  },
  {
   "cell_type": "code",
   "execution_count": 36,
   "metadata": {},
   "outputs": [
    {
     "data": {
      "text/plain": [
       "<generator object <genexpr> at 0x00000000061BF990>"
      ]
     },
     "execution_count": 36,
     "metadata": {},
     "output_type": "execute_result"
    }
   ],
   "source": [
    "mylist = [1, 4, -5, 10, -7, 2, 3, -1]\n",
    "positives = (n for n in mylist if n > 0)\n",
    "\n",
    "positives"
   ]
  },
  {
   "cell_type": "code",
   "execution_count": 37,
   "metadata": {},
   "outputs": [
    {
     "name": "stdout",
     "output_type": "stream",
     "text": [
      "1\n",
      "4\n",
      "10\n",
      "2\n",
      "3\n"
     ]
    }
   ],
   "source": [
    "for x in positives:\n",
    "    print(x)"
   ]
  },
  {
   "cell_type": "code",
   "execution_count": 38,
   "metadata": {},
   "outputs": [
    {
     "data": {
      "text/plain": [
       "55"
      ]
     },
     "execution_count": 38,
     "metadata": {},
     "output_type": "execute_result"
    }
   ],
   "source": [
    "nums = [1, 2, 3, 4, 5]\n",
    "sum(x * x for x in nums)"
   ]
  },
  {
   "cell_type": "code",
   "execution_count": 40,
   "metadata": {},
   "outputs": [
    {
     "data": {
      "text/plain": [
       "'ACME,50,123.45'"
      ]
     },
     "execution_count": 40,
     "metadata": {},
     "output_type": "execute_result"
    }
   ],
   "source": [
    "# Output a tuple as CSV\n",
    "s = ('ACME', 50, 123.45)\n",
    "','.join(str(x) for x in s)"
   ]
  },
  {
   "cell_type": "code",
   "execution_count": 43,
   "metadata": {},
   "outputs": [
    {
     "name": "stdout",
     "output_type": "stream",
     "text": [
      "Sorry, no python.\n"
     ]
    }
   ],
   "source": [
    "# Determine if any .py files exist in a directory\n",
    "import os\n",
    "files = os.listdir('.')\n",
    "if any(name.endswith('.py') for name in files):\n",
    "    print('There be python!')\n",
    "else:\n",
    "    print('Sorry, no python.')"
   ]
  },
  {
   "cell_type": "code",
   "execution_count": 48,
   "metadata": {},
   "outputs": [
    {
     "data": {
      "text/plain": [
       "20"
      ]
     },
     "execution_count": 48,
     "metadata": {},
     "output_type": "execute_result"
    }
   ],
   "source": [
    "# Data reduction across fields of a data structure\n",
    "portfolio = [\n",
    "{'name':'GOOG', 'shares': 50},\n",
    "{'name':'YHOO', 'shares': 75},\n",
    "{'name':'AOL', 'shares': 20},\n",
    "{'name':'SCOX', 'shares': 65}\n",
    "]\n",
    "min(s['shares'] for s in portfolio)"
   ]
  },
  {
   "cell_type": "code",
   "execution_count": 49,
   "metadata": {},
   "outputs": [
    {
     "data": {
      "text/plain": [
       "55"
      ]
     },
     "execution_count": 49,
     "metadata": {},
     "output_type": "execute_result"
    }
   ],
   "source": [
    "s = sum((x * x for x in nums)) # Pass generator-expr as argument\n",
    "s = sum(x * x for x in nums) # More elegant syntax\n",
    "s"
   ]
  },
  {
   "cell_type": "markdown",
   "metadata": {},
   "source": [
    "## 9. compress"
   ]
  },
  {
   "cell_type": "markdown",
   "metadata": {},
   "source": [
    "itertools.compress() takes an iterable and an accompanying Boolean selector sequence as input. As output, it gives you all of the items in the iterable where the corresponding element in the selector is True."
   ]
  },
  {
   "cell_type": "code",
   "execution_count": 31,
   "metadata": {
    "collapsed": true
   },
   "outputs": [],
   "source": [
    "from itertools import compress"
   ]
  },
  {
   "cell_type": "code",
   "execution_count": 32,
   "metadata": {
    "collapsed": true
   },
   "outputs": [],
   "source": [
    "addresses = [\n",
    "'5412 N CLARK',\n",
    "'5148 N CLARK',\n",
    "'5800 E 58TH',\n",
    "'2122 N CLARK'\n",
    "'5645 N RAVENSWOOD',\n",
    "'1060 W ADDISON',\n",
    "'4801 N BROADWAY',\n",
    "'1039 W GRANVILLE',\n",
    "]\n",
    "counts = [ 0, 3, 10, 4, 1, 7, 6, 1]\n"
   ]
  },
  {
   "cell_type": "code",
   "execution_count": 33,
   "metadata": {},
   "outputs": [
    {
     "data": {
      "text/plain": [
       "[False, False, True, False, False, True, True, False]"
      ]
     },
     "execution_count": 33,
     "metadata": {},
     "output_type": "execute_result"
    }
   ],
   "source": [
    "more5 = [n > 5 for n in counts]\n",
    "more5"
   ]
  },
  {
   "cell_type": "code",
   "execution_count": 34,
   "metadata": {},
   "outputs": [
    {
     "data": {
      "text/plain": [
       "['5800 E 58TH', '4801 N BROADWAY', '1039 W GRANVILLE']"
      ]
     },
     "execution_count": 34,
     "metadata": {},
     "output_type": "execute_result"
    }
   ],
   "source": [
    "list(compress(addresses, more5))"
   ]
  }
 ],
 "metadata": {
  "kernelspec": {
   "display_name": "Python 2",
   "language": "python",
   "name": "python2"
  },
  "language_info": {
   "codemirror_mode": {
    "name": "ipython",
    "version": 2
   },
   "file_extension": ".py",
   "mimetype": "text/x-python",
   "name": "python",
   "nbconvert_exporter": "python",
   "pygments_lexer": "ipython2",
   "version": "2.7.13"
  }
 },
 "nbformat": 4,
 "nbformat_minor": 2
}
