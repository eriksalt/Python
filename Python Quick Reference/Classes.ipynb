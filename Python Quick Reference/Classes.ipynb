{
 "cells": [
  {
   "cell_type": "markdown",
   "metadata": {},
   "source": [
    "# Python Classes Quick Reference\n",
    "\n",
    "## Table Of Contents\n",
    "\n",
    "1. <a href=\"#1.-Simple-Class\">Simple Class</a>\n",
    "2. <a href=\"#2.-Member-Variables\">Member Variables</a>\n",
    "3. <a href=\"#3.-Constructor\">Constructor</a>\n",
    "4. <a href=\"4.-string-representation\">String Representation</a>"
   ]
  },
  {
   "cell_type": "markdown",
   "metadata": {},
   "source": [
    "## 1. Simple Class"
   ]
  },
  {
   "cell_type": "code",
   "execution_count": 2,
   "metadata": {},
   "outputs": [
    {
     "name": "stdout",
     "output_type": "stream",
     "text": [
      "vroom vroom...\n"
     ]
    }
   ],
   "source": [
    "# simple definition.  All member functions must take parameter self (this in c++)\n",
    "\n",
    "class Car:\n",
    "    def drive(self):\n",
    "        print('vroom vroom...')\n",
    "        \n",
    "miata = Car()\n",
    "miata.drive()"
   ]
  },
  {
   "cell_type": "markdown",
   "metadata": {},
   "source": [
    "## 2. Member Variables"
   ]
  },
  {
   "cell_type": "code",
   "execution_count": 3,
   "metadata": {},
   "outputs": [
    {
     "name": "stdout",
     "output_type": "stream",
     "text": [
      "driving my miata vroom vroom...\n"
     ]
    }
   ],
   "source": [
    "# declare variable\n",
    "\n",
    "class Car:\n",
    "    make = 'unknown car type'\n",
    "    def drive(self):\n",
    "        print('driving my %s vroom vroom...' % self.make)\n",
    "\n",
    "miata = Car()\n",
    "miata.make = 'miata'\n",
    "miata.drive()"
   ]
  },
  {
   "cell_type": "markdown",
   "metadata": {},
   "source": [
    "## 3. Constructor"
   ]
  },
  {
   "cell_type": "code",
   "execution_count": 4,
   "metadata": {},
   "outputs": [
    {
     "name": "stdout",
     "output_type": "stream",
     "text": [
      "driving my miata vroom vroom...\n"
     ]
    },
    {
     "data": {
      "text/plain": [
       "'miata'"
      ]
     },
     "execution_count": 4,
     "metadata": {},
     "output_type": "execute_result"
    }
   ],
   "source": [
    "# constructor syntax\n",
    "\n",
    "class Car:\n",
    "    make = 'unknown car type'\n",
    "    def __init__(self,make):\n",
    "        self.make=make\n",
    "    def drive(self):\n",
    "        print('driving my %s vroom vroom...' % self.make)\n",
    "\n",
    "maiata=Car('miata')\n",
    "miata.drive()\n",
    "miata.make"
   ]
  },
  {
   "cell_type": "markdown",
   "metadata": {},
   "source": [
    "## 4. String Representation"
   ]
  },
  {
   "cell_type": "code",
   "execution_count": 5,
   "metadata": {},
   "outputs": [
    {
     "data": {
      "text/plain": [
       "User(23)"
      ]
     },
     "execution_count": 5,
     "metadata": {},
     "output_type": "execute_result"
    }
   ],
   "source": [
    "#used to sort objects that dont natively support comparison\n",
    "class User:\n",
    "    def __init__(self, user_id):\n",
    "        self.user_id = user_id\n",
    "    def __repr__(self):\n",
    "        return 'User({})'.format(self.user_id)\n",
    "        \n",
    "User(23)"
   ]
  },
  {
   "cell_type": "markdown",
   "metadata": {
    "collapsed": true
   },
   "source": [
    "## 5. Inheritance"
   ]
  },
  {
   "cell_type": "code",
   "execution_count": null,
   "metadata": {},
   "outputs": [],
   "source": [
    "#declare a subtype\n",
    "class Person:\n",
    "    species : str = \"human being\"   #class (not instance) variable\n",
    "    def __init__(self, name):\n",
    "        self.name=name              #instance variable\n",
    "    def print_name(self):           #self parameter is needed on every method of a class\n",
    "        print(self.name)\n",
    "\n",
    "class Student(Person):              #Student inherits from Person\n",
    "    def __init__(self, name):\n",
    "        super().__init__(name)      #super() returns a reference to the parent type to call base class implementations"
   ]
  }
 ],
 "metadata": {
  "kernelspec": {
   "display_name": "Python 3",
   "language": "python",
   "name": "python3"
  },
  "language_info": {
   "codemirror_mode": {
    "name": "ipython",
    "version": 3
   },
   "file_extension": ".py",
   "mimetype": "text/x-python",
   "name": "python",
   "nbconvert_exporter": "python",
   "pygments_lexer": "ipython3",
   "version": "3.6.3"
  }
 },
 "nbformat": 4,
 "nbformat_minor": 2
}
