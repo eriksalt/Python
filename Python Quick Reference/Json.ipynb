{
  "cells": [
    {
      "metadata": {
        "trusted": true
      },
      "cell_type": "code",
      "source": "import json\n",
      "execution_count": 1,
      "outputs": [
        {
          "output_type": "execute_result",
          "execution_count": 1,
          "data": {
            "text/plain": "'{\"name\": \"Dell Alienware\", \"processor\": \"Intel Core i7\", \"hdd\": 512, \"ram\": 8, \"cost\": 2500.0}'"
          },
          "metadata": {}
        }
      ]
    },
    {
      "metadata": {
        "trusted": true
      },
      "cell_type": "code",
      "source": "#convert a class to a json string\n\nclass Laptop:\n    def __init__(self, name, processor, hdd, ram, cost):\n        self.name = name\n        self.processor = processor\n        self.hdd = hdd\n        self.ram = ram\n        self.cost = cost\n\n#create object\nlaptop1 = Laptop('Dell Alienware', 'Intel Core i7', 512, 8, 2500.00)\n\n#convert to JSON string\njsonStr = json.dumps(laptop1.__dict__)\n\njsonStr",
      "execution_count": 2,
      "outputs": [
        {
          "output_type": "execute_result",
          "execution_count": 2,
          "data": {
            "text/plain": "'{\"name\": \"Dell Alienware\", \"processor\": \"Intel Core i7\", \"hdd\": 512, \"ram\": 8, \"cost\": 2500.0}'"
          },
          "metadata": {}
        }
      ]
    },
    {
      "metadata": {
        "trusted": true
      },
      "cell_type": "code",
      "source": "#convert an unserializable object to a json string\n\ndef convert_to_dict(obj):\n  \"\"\"\n  A function takes in a custom object and returns a dictionary representation of the object.\n  This dict representation includes meta data such as the object's module and class names.\n  \"\"\"\n  \n  #  Populate the dictionary with object meta data \n  obj_dict = {\n    \"__class__\": obj.__class__.__name__,\n    \"__module__\": obj.__module__\n  }\n  \n  #  Populate the dictionary with object properties\n  obj_dict.update(obj.__dict__)\n  \n  return obj_dict\n\nclass User:\n    def __init__(self,name,age,active,balance,other_names,friends,spouse):\n        self.name = name\n        self.age = age\n        self.active = active\n        self.balance = balance\n        self.other_names = other_names\n        self.friends = friends\n        self.spouse = spouse\n\n    def __str__(self):\n        return self.name\n    \nnew_user = User(name = \"Foo Bar\", age = 78, friends = [\"Jane\",\"John\"], balance = 345.80, other_names = (\"Doe\",\"Joe\"), active = True, spouse = None)\n\njsonStr = json.dumps(new_user,default=convert_to_dict)\njsonStr",
      "execution_count": 9,
      "outputs": [
        {
          "output_type": "execute_result",
          "execution_count": 9,
          "data": {
            "text/plain": "'{\"__class__\": \"User\", \"__module__\": \"__main__\", \"name\": \"Foo Bar\", \"age\": 78, \"active\": true, \"balance\": 345.8, \"other_names\": [\"Doe\", \"Joe\"], \"friends\": [\"Jane\", \"John\"], \"spouse\": null}'"
          },
          "metadata": {}
        }
      ]
    },
    {
      "metadata": {
        "trusted": true
      },
      "cell_type": "code",
      "source": "#convert a simple type to a json string\n\njsonStr = json.dumps(32)\njsonStr",
      "execution_count": 4,
      "outputs": [
        {
          "output_type": "execute_result",
          "execution_count": 4,
          "data": {
            "text/plain": "'32'"
          },
          "metadata": {}
        }
      ]
    },
    {
      "metadata": {
        "trusted": true
      },
      "cell_type": "code",
      "source": "#converrt a tuple to a json string\n\njsonStr = json.dumps((3, \"hello\"))\njsonStr",
      "execution_count": 5,
      "outputs": [
        {
          "output_type": "execute_result",
          "execution_count": 5,
          "data": {
            "text/plain": "'[3, \"hello\"]'"
          },
          "metadata": {}
        }
      ]
    },
    {
      "metadata": {
        "trusted": true
      },
      "cell_type": "code",
      "source": "#convert a json string into a dictionary object\n\njsonObj = json.loads('{ \"active\": true, \"age\": 78, \"balance\": 345.8,   \"friends\": [\"Jane\",\"John\"], \"name\": \"Foo Bar\", \"other_names\": [\"Doe\",\"Joe\"],\"spouse\":null}')\njsonObj",
      "execution_count": 6,
      "outputs": [
        {
          "output_type": "execute_result",
          "execution_count": 6,
          "data": {
            "text/plain": "{'active': True,\n 'age': 78,\n 'balance': 345.8,\n 'friends': ['Jane', 'John'],\n 'name': 'Foo Bar',\n 'other_names': ['Doe', 'Joe'],\n 'spouse': None}"
          },
          "metadata": {}
        }
      ]
    },
    {
      "metadata": {
        "trusted": true
      },
      "cell_type": "code",
      "source": "#import json string into a python class object\n\n",
      "execution_count": null,
      "outputs": []
    }
  ],
  "metadata": {
    "kernelspec": {
      "name": "python36",
      "display_name": "Python 3.6",
      "language": "python"
    },
    "language_info": {
      "mimetype": "text/x-python",
      "nbconvert_exporter": "python",
      "name": "python",
      "pygments_lexer": "ipython3",
      "version": "3.6.6",
      "file_extension": ".py",
      "codemirror_mode": {
        "version": 3,
        "name": "ipython"
      }
    }
  },
  "nbformat": 4,
  "nbformat_minor": 2
}
